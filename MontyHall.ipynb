{
 "cells": [
  {
   "cell_type": "code",
   "execution_count": 137,
   "metadata": {},
   "outputs": [
    {
     "name": "stdout",
     "output_type": "stream",
     "text": [
      "Cantidad de Aciertos Cambia: 668  Porcentaje de Acierto: 66.8 %\n",
      "Cantidad de Aciertos No Cambia: 332  Porcentaje de Acierto: 33.2 %\n"
     ]
    },
    {
     "data": {
      "image/png": "[encoded data removed]",
      "text/plain": [
       "<Figure size 432x288 with 1 Axes>"
      ]
     },
     "metadata": {
      "needs_background": "light"
     },
     "output_type": "display_data"
    }
   ],
   "source": [
    "import numpy as np\n",
    "import pandas as pd\n",
    "import random\n",
    "import matplotlib.pyplot as plt\n",
    "\n",
    "vecPuertas=['oveja','oveja','auto']\n",
    "\n",
    "vecNOCambia=np.full(1000,-1)\n",
    "vecNOCambiaCant=np.full(1000,-1)\n",
    "vecCambia=np.full(1000,-1)\n",
    "vecCambiaCant=np.full(1000,-1)\n",
    "\n",
    "contAciertos1=0\n",
    "contAciertos2=0\n",
    "\n",
    "for i in range (0,1000):\n",
    "\n",
    "    eleccionParticipante=random.randint(0,2)\n",
    "    \n",
    "    if eleccionParticipante==2 :\n",
    "        #mostrarPuerta=random.randint(0,1)\n",
    "        eleccionParticipanteCambio=random.randint(0,1)\n",
    "    elif eleccionParticipante==0 :\n",
    "        #mostrarPuerta=1\n",
    "        eleccionParticipanteCambio=2\n",
    "    else:\n",
    "        #mostrarPuerta=0\n",
    "        eleccionParticipanteCambio=2\n",
    "    \n",
    "    #*************************NO CAMBIA********************************\n",
    "    if vecPuertas[eleccionParticipante] == 'auto' :\n",
    "        #print(i,1)\n",
    "        contAciertos1=contAciertos1+1\n",
    "        #vecNOCambia[i]=contAciertos1\n",
    "        vecNOCambiaCant[i]=1\n",
    "    else:\n",
    "        #print(i,0)\n",
    "        #vecNOCambia[i]=0\n",
    "        vecNOCambiaCant[i]=0\n",
    "    \n",
    "    vecNOCambia[i]=contAciertos1\n",
    "    \n",
    "    #*************************CAMBIA********************************\n",
    "    \n",
    "    if vecPuertas[eleccionParticipanteCambio] == 'auto' :\n",
    "        contAciertos2=contAciertos2+1\n",
    "        #vecCambia[i]=contAciertos2\n",
    "        vecCambiaCant[i]=1\n",
    "    else:\n",
    "        #print(i,0)\n",
    "        #vecCambia[i]=0\n",
    "        vecCambiaCant[i]=0\n",
    "        \n",
    "    vecCambia[i]=contAciertos2\n",
    "        \n",
    "print ('Cantidad de Aciertos Cambia:', vecCambiaCant.sum(),' Porcentaje de Acierto:',\n",
    "            \"%.1f\"  % ((vecCambiaCant.sum()/np.size(vecCambiaCant))*100) , '%' )    \n",
    "\n",
    "print ('Cantidad de Aciertos No Cambia:', vecNOCambiaCant.sum(),' Porcentaje de Acierto:',\n",
    "           \"%.1f\"  % ((vecNOCambiaCant.sum()/np.size(vecNOCambiaCant))*100) , '%' )    \n",
    "\n",
    "\n",
    "\n",
    "\n",
    "plt.plot(vecCambia,label='Cambia')\n",
    "plt.plot(vecNOCambia,label='No cambia')\n",
    "plt.legend(loc=\"upper left\")\n",
    "plt.show()\n",
    "#vecCambia.plot()\n"
   ]
  }
 ],
 "metadata": {
  "kernelspec": {
   "display_name": "Python 3",
   "language": "python",
   "name": "python3"
  },
  "language_info": {
   "codemirror_mode": {
    "name": "ipython",
    "version": 3
   },
   "file_extension": ".py",
   "mimetype": "text/x-python",
   "name": "python",
   "nbconvert_exporter": "python",
   "pygments_lexer": "ipython3",
   "version": "3.8.5"
  }
 },
 "nbformat": 4,
 "nbformat_minor": 5
}
